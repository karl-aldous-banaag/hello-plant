{
 "cells": [
  {
   "cell_type": "markdown",
   "id": "e42c381f",
   "metadata": {},
   "source": [
    "## Importing Data"
   ]
  },
  {
   "cell_type": "code",
   "execution_count": 1,
   "id": "106f2075",
   "metadata": {},
   "outputs": [],
   "source": [
    "import pandas as pd\n",
    "import matplotlib.pyplot as plt\n",
    "import datetime\n",
    "import numpy as np"
   ]
  },
  {
   "cell_type": "code",
   "execution_count": 2,
   "id": "87016c8e",
   "metadata": {},
   "outputs": [
    {
     "data": {
      "text/html": [
       "<div>\n",
       "<style scoped>\n",
       "    .dataframe tbody tr th:only-of-type {\n",
       "        vertical-align: middle;\n",
       "    }\n",
       "\n",
       "    .dataframe tbody tr th {\n",
       "        vertical-align: top;\n",
       "    }\n",
       "\n",
       "    .dataframe thead th {\n",
       "        text-align: right;\n",
       "    }\n",
       "</style>\n",
       "<table border=\"1\" class=\"dataframe\">\n",
       "  <thead>\n",
       "    <tr style=\"text-align: right;\">\n",
       "      <th></th>\n",
       "      <th>Timestamp</th>\n",
       "      <th>Temperature</th>\n",
       "      <th>Humidity</th>\n",
       "      <th>Moisture</th>\n",
       "    </tr>\n",
       "  </thead>\n",
       "  <tbody>\n",
       "    <tr>\n",
       "      <th>0</th>\n",
       "      <td>8/5/2023 12:36:52</td>\n",
       "      <td>33.0</td>\n",
       "      <td>70</td>\n",
       "      <td>751</td>\n",
       "    </tr>\n",
       "    <tr>\n",
       "      <th>1</th>\n",
       "      <td>8/5/2023 12:37:01</td>\n",
       "      <td>33.0</td>\n",
       "      <td>70</td>\n",
       "      <td>751</td>\n",
       "    </tr>\n",
       "    <tr>\n",
       "      <th>2</th>\n",
       "      <td>8/5/2023 12:37:09</td>\n",
       "      <td>33.0</td>\n",
       "      <td>70</td>\n",
       "      <td>751</td>\n",
       "    </tr>\n",
       "    <tr>\n",
       "      <th>3</th>\n",
       "      <td>8/5/2023 12:37:18</td>\n",
       "      <td>33.0</td>\n",
       "      <td>70</td>\n",
       "      <td>751</td>\n",
       "    </tr>\n",
       "    <tr>\n",
       "      <th>4</th>\n",
       "      <td>8/5/2023 12:37:27</td>\n",
       "      <td>33.0</td>\n",
       "      <td>70</td>\n",
       "      <td>751</td>\n",
       "    </tr>\n",
       "  </tbody>\n",
       "</table>\n",
       "</div>"
      ],
      "text/plain": [
       "           Timestamp  Temperature  Humidity  Moisture\n",
       "0  8/5/2023 12:36:52         33.0        70       751\n",
       "1  8/5/2023 12:37:01         33.0        70       751\n",
       "2  8/5/2023 12:37:09         33.0        70       751\n",
       "3  8/5/2023 12:37:18         33.0        70       751\n",
       "4  8/5/2023 12:37:27         33.0        70       751"
      ]
     },
     "execution_count": 2,
     "metadata": {},
     "output_type": "execute_result"
    }
   ],
   "source": [
    "df = pd.read_csv(\"resistive-sensor-raw.csv\")\n",
    "df.head()"
   ]
  },
  {
   "cell_type": "markdown",
   "id": "80cfe422",
   "metadata": {},
   "source": [
    "#### Column Meanings\n",
    "<table>\n",
    "    <head>\n",
    "        <tr>\n",
    "            <th>Column Name</th>\n",
    "            <th>Description</th>\n",
    "        </tr>\n",
    "    </head>\n",
    "    <body>\n",
    "        <tr>\n",
    "            <td>Timestamp</td>\n",
    "            <td>When measurement was recorded</td>\n",
    "        </tr>\n",
    "        <tr>\n",
    "            <td>Temperature</td>\n",
    "            <td>Temperateure of air around plant in degrees Celsius</td>\n",
    "        </tr>\n",
    "        <tr>\n",
    "            <td>Humidity</td>\n",
    "            <td>Humidity of air around plant</td>\n",
    "        </tr>\n",
    "        <tr>\n",
    "            <td>Moisture</td>\n",
    "            <td>Lack of moisture in plant's soil on a scale of 247 to 1023</td>\n",
    "        </tr>\n",
    "    </body>\n",
    "</table>"
   ]
  },
  {
   "cell_type": "markdown",
   "id": "c61cfa2b",
   "metadata": {},
   "source": [
    "# Reading Data"
   ]
  },
  {
   "cell_type": "code",
   "execution_count": 3,
   "id": "d2bd6008",
   "metadata": {
    "scrolled": true
   },
   "outputs": [
    {
     "data": {
      "text/html": [
       "<div>\n",
       "<style scoped>\n",
       "    .dataframe tbody tr th:only-of-type {\n",
       "        vertical-align: middle;\n",
       "    }\n",
       "\n",
       "    .dataframe tbody tr th {\n",
       "        vertical-align: top;\n",
       "    }\n",
       "\n",
       "    .dataframe thead th {\n",
       "        text-align: right;\n",
       "    }\n",
       "</style>\n",
       "<table border=\"1\" class=\"dataframe\">\n",
       "  <thead>\n",
       "    <tr style=\"text-align: right;\">\n",
       "      <th></th>\n",
       "      <th>Temperature</th>\n",
       "      <th>Humidity</th>\n",
       "      <th>Moisture</th>\n",
       "    </tr>\n",
       "  </thead>\n",
       "  <tbody>\n",
       "    <tr>\n",
       "      <th>count</th>\n",
       "      <td>8542.000000</td>\n",
       "      <td>8542.000000</td>\n",
       "      <td>8542.000000</td>\n",
       "    </tr>\n",
       "    <tr>\n",
       "      <th>mean</th>\n",
       "      <td>31.409412</td>\n",
       "      <td>76.219035</td>\n",
       "      <td>629.199251</td>\n",
       "    </tr>\n",
       "    <tr>\n",
       "      <th>std</th>\n",
       "      <td>2.042834</td>\n",
       "      <td>8.035348</td>\n",
       "      <td>89.482404</td>\n",
       "    </tr>\n",
       "    <tr>\n",
       "      <th>min</th>\n",
       "      <td>28.700000</td>\n",
       "      <td>42.000000</td>\n",
       "      <td>353.000000</td>\n",
       "    </tr>\n",
       "    <tr>\n",
       "      <th>25%</th>\n",
       "      <td>29.900000</td>\n",
       "      <td>70.000000</td>\n",
       "      <td>566.000000</td>\n",
       "    </tr>\n",
       "    <tr>\n",
       "      <th>50%</th>\n",
       "      <td>30.700000</td>\n",
       "      <td>80.000000</td>\n",
       "      <td>637.000000</td>\n",
       "    </tr>\n",
       "    <tr>\n",
       "      <th>75%</th>\n",
       "      <td>32.500000</td>\n",
       "      <td>82.000000</td>\n",
       "      <td>696.000000</td>\n",
       "    </tr>\n",
       "    <tr>\n",
       "      <th>max</th>\n",
       "      <td>43.500000</td>\n",
       "      <td>90.000000</td>\n",
       "      <td>988.000000</td>\n",
       "    </tr>\n",
       "  </tbody>\n",
       "</table>\n",
       "</div>"
      ],
      "text/plain": [
       "       Temperature     Humidity     Moisture\n",
       "count  8542.000000  8542.000000  8542.000000\n",
       "mean     31.409412    76.219035   629.199251\n",
       "std       2.042834     8.035348    89.482404\n",
       "min      28.700000    42.000000   353.000000\n",
       "25%      29.900000    70.000000   566.000000\n",
       "50%      30.700000    80.000000   637.000000\n",
       "75%      32.500000    82.000000   696.000000\n",
       "max      43.500000    90.000000   988.000000"
      ]
     },
     "execution_count": 3,
     "metadata": {},
     "output_type": "execute_result"
    }
   ],
   "source": [
    "df.describe()"
   ]
  },
  {
   "cell_type": "code",
   "execution_count": 4,
   "id": "e46234dc",
   "metadata": {},
   "outputs": [
    {
     "data": {
      "text/plain": [
       "<AxesSubplot: title={'center': 'Moisture'}>"
      ]
     },
     "execution_count": 4,
     "metadata": {},
     "output_type": "execute_result"
    },
    {
     "data": {
      "image/png": "[encoded data removed]",
      "text/plain": [
       "<Figure size 640x480 with 1 Axes>"
      ]
     },
     "metadata": {},
     "output_type": "display_data"
    }
   ],
   "source": [
    "df[\"Moisture\"].plot(title=\"Moisture\")"
   ]
  },
  {
   "cell_type": "code",
   "execution_count": 5,
   "id": "2cf77380",
   "metadata": {},
   "outputs": [
    {
     "data": {
      "text/plain": [
       "<AxesSubplot: title={'center': 'Temperature'}>"
      ]
     },
     "execution_count": 5,
     "metadata": {},
     "output_type": "execute_result"
    },
    {
     "data": {
      "image/png": "[encoded data removed]",
      "text/plain": [
       "<Figure size 640x480 with 1 Axes>"
      ]
     },
     "metadata": {},
     "output_type": "display_data"
    }
   ],
   "source": [
    "df[\"Temperature\"].plot(title=\"Temperature\")"
   ]
  },
  {
   "cell_type": "code",
   "execution_count": 6,
   "id": "57910a63",
   "metadata": {
    "scrolled": true
   },
   "outputs": [
    {
     "data": {
      "text/plain": [
       "<AxesSubplot: title={'center': 'Humidity'}>"
      ]
     },
     "execution_count": 6,
     "metadata": {},
     "output_type": "execute_result"
    },
    {
     "data": {
      "image/png": "[encoded data removed]",
      "text/plain": [
       "<Figure size 640x480 with 1 Axes>"
      ]
     },
     "metadata": {},
     "output_type": "display_data"
    }
   ],
   "source": [
    "df[\"Humidity\"].plot(title=\"Humidity\")"
   ]
  },
  {
   "cell_type": "code",
   "execution_count": 7,
   "id": "9d05db1d",
   "metadata": {
    "scrolled": false
   },
   "outputs": [
    {
     "data": {
      "text/html": [
       "<div>\n",
       "<style scoped>\n",
       "    .dataframe tbody tr th:only-of-type {\n",
       "        vertical-align: middle;\n",
       "    }\n",
       "\n",
       "    .dataframe tbody tr th {\n",
       "        vertical-align: top;\n",
       "    }\n",
       "\n",
       "    .dataframe thead th {\n",
       "        text-align: right;\n",
       "    }\n",
       "</style>\n",
       "<table border=\"1\" class=\"dataframe\">\n",
       "  <thead>\n",
       "    <tr style=\"text-align: right;\">\n",
       "      <th></th>\n",
       "      <th>Temperature</th>\n",
       "      <th>Humidity</th>\n",
       "      <th>Moisture</th>\n",
       "    </tr>\n",
       "  </thead>\n",
       "  <tbody>\n",
       "    <tr>\n",
       "      <th>Temperature</th>\n",
       "      <td>1.000000</td>\n",
       "      <td>-0.964963</td>\n",
       "      <td>-0.293088</td>\n",
       "    </tr>\n",
       "    <tr>\n",
       "      <th>Humidity</th>\n",
       "      <td>-0.964963</td>\n",
       "      <td>1.000000</td>\n",
       "      <td>0.357677</td>\n",
       "    </tr>\n",
       "    <tr>\n",
       "      <th>Moisture</th>\n",
       "      <td>-0.293088</td>\n",
       "      <td>0.357677</td>\n",
       "      <td>1.000000</td>\n",
       "    </tr>\n",
       "  </tbody>\n",
       "</table>\n",
       "</div>"
      ],
      "text/plain": [
       "             Temperature  Humidity  Moisture\n",
       "Temperature     1.000000 -0.964963 -0.293088\n",
       "Humidity       -0.964963  1.000000  0.357677\n",
       "Moisture       -0.293088  0.357677  1.000000"
      ]
     },
     "execution_count": 7,
     "metadata": {},
     "output_type": "execute_result"
    }
   ],
   "source": [
    "df.corr(numeric_only=True)"
   ]
  },
  {
   "cell_type": "markdown",
   "id": "136cd214",
   "metadata": {},
   "source": [
    "Humidity and temperature have a really strong relationship."
   ]
  },
  {
   "cell_type": "markdown",
   "id": "13b76b69",
   "metadata": {},
   "source": [
    "## Modifying Data"
   ]
  },
  {
   "cell_type": "markdown",
   "id": "8e59d4b9",
   "metadata": {},
   "source": [
    "### Timestamp"
   ]
  },
  {
   "cell_type": "code",
   "execution_count": 8,
   "id": "889b90f6",
   "metadata": {},
   "outputs": [],
   "source": [
    "df[\"sTimestamp\"] = df[\"Timestamp\"] # timestamp as a string\n",
    "df[\"Timestamp\"] = pd.to_datetime(df[\"Timestamp\"]) # timestamp as a datetime object\n",
    "df[\"dTimestamp-1\"] = (df[\"Timestamp\"] - df[\"Timestamp\"].shift(1)) / np.timedelta64(1, 's') # difference in seconds from last timestamp"
   ]
  },
  {
   "cell_type": "markdown",
   "id": "f5433c65",
   "metadata": {},
   "source": [
    "Another column called `dTimestamp-1` was made to find the difference in time between recorded data."
   ]
  },
  {
   "cell_type": "code",
   "execution_count": 9,
   "id": "ab7b3f12",
   "metadata": {
    "scrolled": true
   },
   "outputs": [
    {
     "data": {
      "text/html": [
       "<div>\n",
       "<style scoped>\n",
       "    .dataframe tbody tr th:only-of-type {\n",
       "        vertical-align: middle;\n",
       "    }\n",
       "\n",
       "    .dataframe tbody tr th {\n",
       "        vertical-align: top;\n",
       "    }\n",
       "\n",
       "    .dataframe thead th {\n",
       "        text-align: right;\n",
       "    }\n",
       "</style>\n",
       "<table border=\"1\" class=\"dataframe\">\n",
       "  <thead>\n",
       "    <tr style=\"text-align: right;\">\n",
       "      <th></th>\n",
       "      <th>Timestamp</th>\n",
       "      <th>Temperature</th>\n",
       "      <th>Humidity</th>\n",
       "      <th>Moisture</th>\n",
       "      <th>sTimestamp</th>\n",
       "      <th>dTimestamp-1</th>\n",
       "    </tr>\n",
       "  </thead>\n",
       "  <tbody>\n",
       "    <tr>\n",
       "      <th>0</th>\n",
       "      <td>2023-08-05 12:36:52</td>\n",
       "      <td>33.0</td>\n",
       "      <td>70</td>\n",
       "      <td>751</td>\n",
       "      <td>8/5/2023 12:36:52</td>\n",
       "      <td>NaN</td>\n",
       "    </tr>\n",
       "    <tr>\n",
       "      <th>1</th>\n",
       "      <td>2023-08-05 12:37:01</td>\n",
       "      <td>33.0</td>\n",
       "      <td>70</td>\n",
       "      <td>751</td>\n",
       "      <td>8/5/2023 12:37:01</td>\n",
       "      <td>9.0</td>\n",
       "    </tr>\n",
       "    <tr>\n",
       "      <th>2</th>\n",
       "      <td>2023-08-05 12:37:09</td>\n",
       "      <td>33.0</td>\n",
       "      <td>70</td>\n",
       "      <td>751</td>\n",
       "      <td>8/5/2023 12:37:09</td>\n",
       "      <td>8.0</td>\n",
       "    </tr>\n",
       "    <tr>\n",
       "      <th>3</th>\n",
       "      <td>2023-08-05 12:37:18</td>\n",
       "      <td>33.0</td>\n",
       "      <td>70</td>\n",
       "      <td>751</td>\n",
       "      <td>8/5/2023 12:37:18</td>\n",
       "      <td>9.0</td>\n",
       "    </tr>\n",
       "    <tr>\n",
       "      <th>4</th>\n",
       "      <td>2023-08-05 12:37:27</td>\n",
       "      <td>33.0</td>\n",
       "      <td>70</td>\n",
       "      <td>751</td>\n",
       "      <td>8/5/2023 12:37:27</td>\n",
       "      <td>9.0</td>\n",
       "    </tr>\n",
       "  </tbody>\n",
       "</table>\n",
       "</div>"
      ],
      "text/plain": [
       "            Timestamp  Temperature  Humidity  Moisture         sTimestamp  \\\n",
       "0 2023-08-05 12:36:52         33.0        70       751  8/5/2023 12:36:52   \n",
       "1 2023-08-05 12:37:01         33.0        70       751  8/5/2023 12:37:01   \n",
       "2 2023-08-05 12:37:09         33.0        70       751  8/5/2023 12:37:09   \n",
       "3 2023-08-05 12:37:18         33.0        70       751  8/5/2023 12:37:18   \n",
       "4 2023-08-05 12:37:27         33.0        70       751  8/5/2023 12:37:27   \n",
       "\n",
       "   dTimestamp-1  \n",
       "0           NaN  \n",
       "1           9.0  \n",
       "2           8.0  \n",
       "3           9.0  \n",
       "4           9.0  "
      ]
     },
     "execution_count": 9,
     "metadata": {},
     "output_type": "execute_result"
    }
   ],
   "source": [
    "df.head()"
   ]
  },
  {
   "cell_type": "code",
   "execution_count": 10,
   "id": "040f48a0",
   "metadata": {},
   "outputs": [
    {
     "data": {
      "image/png": "[encoded data removed]",
      "text/plain": [
       "<Figure size 640x480 with 1 Axes>"
      ]
     },
     "metadata": {},
     "output_type": "display_data"
    }
   ],
   "source": [
    "plt.boxplot(df[1:][\"dTimestamp-1\"])\n",
    "plt.title(\"Boxplot of Seconds between Records\")\n",
    "plt.show()"
   ]
  },
  {
   "cell_type": "code",
   "execution_count": 11,
   "id": "ea96fe36",
   "metadata": {},
   "outputs": [
    {
     "data": {
      "text/plain": [
       "916     19473.0\n",
       "5085     2160.0\n",
       "7         356.0\n",
       "4238      317.0\n",
       "5219      286.0\n",
       "Name: dTimestamp-1, dtype: float64"
      ]
     },
     "execution_count": 11,
     "metadata": {},
     "output_type": "execute_result"
    }
   ],
   "source": [
    "df[\"dTimestamp-1\"].nlargest(5)"
   ]
  },
  {
   "cell_type": "markdown",
   "id": "06c2b473",
   "metadata": {},
   "source": [
    "The values of `dTimestamp-1` were not consistent. So, the recordings were compared to the recording made closest to 5 minutes before it."
   ]
  },
  {
   "cell_type": "code",
   "execution_count": 12,
   "id": "b19437ca",
   "metadata": {},
   "outputs": [],
   "source": [
    "df[\"Rows_Before\"] = np.nan\n",
    "df[\"dTimestamp\"] = np.nan"
   ]
  },
  {
   "cell_type": "code",
   "execution_count": 13,
   "id": "760f634f",
   "metadata": {},
   "outputs": [],
   "source": [
    "dT1_loc = df.columns.get_loc(\"dTimestamp-1\")\n",
    "dT_loc = df.columns.get_loc(\"dTimestamp\")\n",
    "rows_before_loc = df.columns.get_loc(\"Rows_Before\")\n",
    "\n",
    "target_diff = 3600\n",
    "\n",
    "for i in range(1, len(df)):\n",
    "    rows_i_diff = 1\n",
    "    time_diff_prev = 0\n",
    "    time_diff_next = df.iloc[i, dT1_loc]\n",
    "    final_diff = 0\n",
    "    \n",
    "    if time_diff_next > target_diff * 2: continue\n",
    "\n",
    "    while time_diff_next < target_diff:\n",
    "        time_diff_prev = time_diff_next\n",
    "        rows_i_diff += 1\n",
    "        time_diff_next += df.iloc[i - rows_i_diff + 1, dT1_loc]\n",
    "    \n",
    "    if time_diff_prev < target_diff - 30: continue\n",
    "    if time_diff_prev > target_diff + 30: continue\n",
    "\n",
    "    if abs(time_diff_next - target_diff) < abs(time_diff_prev - target_diff):\n",
    "        final_diff = time_diff_next\n",
    "    else:\n",
    "        final_diff = time_diff_prev\n",
    "        \n",
    "    df.iloc[i, rows_before_loc] = rows_i_diff\n",
    "    df.iloc[i, dT_loc] = final_diff"
   ]
  },
  {
   "cell_type": "code",
   "execution_count": 14,
   "id": "c775f8ba",
   "metadata": {},
   "outputs": [
    {
     "data": {
      "text/html": [
       "<div>\n",
       "<style scoped>\n",
       "    .dataframe tbody tr th:only-of-type {\n",
       "        vertical-align: middle;\n",
       "    }\n",
       "\n",
       "    .dataframe tbody tr th {\n",
       "        vertical-align: top;\n",
       "    }\n",
       "\n",
       "    .dataframe thead th {\n",
       "        text-align: right;\n",
       "    }\n",
       "</style>\n",
       "<table border=\"1\" class=\"dataframe\">\n",
       "  <thead>\n",
       "    <tr style=\"text-align: right;\">\n",
       "      <th></th>\n",
       "      <th>Timestamp</th>\n",
       "      <th>Temperature</th>\n",
       "      <th>Humidity</th>\n",
       "      <th>Moisture</th>\n",
       "      <th>sTimestamp</th>\n",
       "      <th>dTimestamp-1</th>\n",
       "      <th>Rows_Before</th>\n",
       "      <th>dTimestamp</th>\n",
       "    </tr>\n",
       "  </thead>\n",
       "  <tbody>\n",
       "    <tr>\n",
       "      <th>8537</th>\n",
       "      <td>2023-08-08 11:39:16</td>\n",
       "      <td>32.1</td>\n",
       "      <td>74</td>\n",
       "      <td>390</td>\n",
       "      <td>8/8/2023 11:39:16</td>\n",
       "      <td>29.0</td>\n",
       "      <td>126.0</td>\n",
       "      <td>3613.0</td>\n",
       "    </tr>\n",
       "    <tr>\n",
       "      <th>8538</th>\n",
       "      <td>2023-08-08 11:39:44</td>\n",
       "      <td>32.1</td>\n",
       "      <td>74</td>\n",
       "      <td>390</td>\n",
       "      <td>8/8/2023 11:39:44</td>\n",
       "      <td>28.0</td>\n",
       "      <td>126.0</td>\n",
       "      <td>3612.0</td>\n",
       "    </tr>\n",
       "    <tr>\n",
       "      <th>8539</th>\n",
       "      <td>2023-08-08 11:40:13</td>\n",
       "      <td>32.1</td>\n",
       "      <td>75</td>\n",
       "      <td>390</td>\n",
       "      <td>8/8/2023 11:40:13</td>\n",
       "      <td>29.0</td>\n",
       "      <td>126.0</td>\n",
       "      <td>3612.0</td>\n",
       "    </tr>\n",
       "    <tr>\n",
       "      <th>8540</th>\n",
       "      <td>2023-08-08 11:40:43</td>\n",
       "      <td>32.0</td>\n",
       "      <td>74</td>\n",
       "      <td>390</td>\n",
       "      <td>8/8/2023 11:40:43</td>\n",
       "      <td>30.0</td>\n",
       "      <td>126.0</td>\n",
       "      <td>3613.0</td>\n",
       "    </tr>\n",
       "    <tr>\n",
       "      <th>8541</th>\n",
       "      <td>2023-08-08 11:41:12</td>\n",
       "      <td>32.1</td>\n",
       "      <td>74</td>\n",
       "      <td>390</td>\n",
       "      <td>8/8/2023 11:41:12</td>\n",
       "      <td>29.0</td>\n",
       "      <td>126.0</td>\n",
       "      <td>3613.0</td>\n",
       "    </tr>\n",
       "  </tbody>\n",
       "</table>\n",
       "</div>"
      ],
      "text/plain": [
       "               Timestamp  Temperature  Humidity  Moisture         sTimestamp  \\\n",
       "8537 2023-08-08 11:39:16         32.1        74       390  8/8/2023 11:39:16   \n",
       "8538 2023-08-08 11:39:44         32.1        74       390  8/8/2023 11:39:44   \n",
       "8539 2023-08-08 11:40:13         32.1        75       390  8/8/2023 11:40:13   \n",
       "8540 2023-08-08 11:40:43         32.0        74       390  8/8/2023 11:40:43   \n",
       "8541 2023-08-08 11:41:12         32.1        74       390  8/8/2023 11:41:12   \n",
       "\n",
       "      dTimestamp-1  Rows_Before  dTimestamp  \n",
       "8537          29.0        126.0      3613.0  \n",
       "8538          28.0        126.0      3612.0  \n",
       "8539          29.0        126.0      3612.0  \n",
       "8540          30.0        126.0      3613.0  \n",
       "8541          29.0        126.0      3613.0  "
      ]
     },
     "execution_count": 14,
     "metadata": {},
     "output_type": "execute_result"
    }
   ],
   "source": [
    "df.tail()"
   ]
  },
  {
   "cell_type": "code",
   "execution_count": 15,
   "id": "8227c4f6",
   "metadata": {},
   "outputs": [
    {
     "data": {
      "text/plain": [
       "(array([  14.,   21.,   27.,  830.,  775.,  975., 1375., 2276., 1281.,\n",
       "          97.]),\n",
       " array([3570. , 3574.8, 3579.6, 3584.4, 3589.2, 3594. , 3598.8, 3603.6,\n",
       "        3608.4, 3613.2, 3618. ]),\n",
       " <BarContainer object of 10 artists>)"
      ]
     },
     "execution_count": 15,
     "metadata": {},
     "output_type": "execute_result"
    },
    {
     "data": {
      "image/png": "[encoded data removed]",
      "text/plain": [
       "<Figure size 640x480 with 1 Axes>"
      ]
     },
     "metadata": {},
     "output_type": "display_data"
    }
   ],
   "source": [
    "plt.hist(df[\"dTimestamp\"])"
   ]
  },
  {
   "cell_type": "code",
   "execution_count": 16,
   "id": "1493227c",
   "metadata": {},
   "outputs": [
    {
     "data": {
      "text/plain": [
       "7671"
      ]
     },
     "execution_count": 16,
     "metadata": {},
     "output_type": "execute_result"
    }
   ],
   "source": [
    "len(df.dropna())"
   ]
  },
  {
   "cell_type": "code",
   "execution_count": 17,
   "id": "25de30aa",
   "metadata": {
    "scrolled": true
   },
   "outputs": [
    {
     "data": {
      "text/html": [
       "<div>\n",
       "<style scoped>\n",
       "    .dataframe tbody tr th:only-of-type {\n",
       "        vertical-align: middle;\n",
       "    }\n",
       "\n",
       "    .dataframe tbody tr th {\n",
       "        vertical-align: top;\n",
       "    }\n",
       "\n",
       "    .dataframe thead th {\n",
       "        text-align: right;\n",
       "    }\n",
       "</style>\n",
       "<table border=\"1\" class=\"dataframe\">\n",
       "  <thead>\n",
       "    <tr style=\"text-align: right;\">\n",
       "      <th></th>\n",
       "      <th>Temperature</th>\n",
       "      <th>Humidity</th>\n",
       "      <th>Moisture</th>\n",
       "      <th>dTimestamp-1</th>\n",
       "      <th>Rows_Before</th>\n",
       "      <th>dTimestamp</th>\n",
       "    </tr>\n",
       "  </thead>\n",
       "  <tbody>\n",
       "    <tr>\n",
       "      <th>count</th>\n",
       "      <td>8542.000000</td>\n",
       "      <td>8542.000000</td>\n",
       "      <td>8542.000000</td>\n",
       "      <td>8541.000000</td>\n",
       "      <td>7671.000000</td>\n",
       "      <td>7671.000000</td>\n",
       "    </tr>\n",
       "    <tr>\n",
       "      <th>mean</th>\n",
       "      <td>31.409412</td>\n",
       "      <td>76.219035</td>\n",
       "      <td>629.199251</td>\n",
       "      <td>29.956680</td>\n",
       "      <td>139.507365</td>\n",
       "      <td>3601.055143</td>\n",
       "    </tr>\n",
       "    <tr>\n",
       "      <th>std</th>\n",
       "      <td>2.042834</td>\n",
       "      <td>8.035348</td>\n",
       "      <td>89.482404</td>\n",
       "      <td>212.066227</td>\n",
       "      <td>64.079291</td>\n",
       "      <td>7.941619</td>\n",
       "    </tr>\n",
       "    <tr>\n",
       "      <th>min</th>\n",
       "      <td>28.700000</td>\n",
       "      <td>42.000000</td>\n",
       "      <td>353.000000</td>\n",
       "      <td>-29.000000</td>\n",
       "      <td>52.000000</td>\n",
       "      <td>3570.000000</td>\n",
       "    </tr>\n",
       "    <tr>\n",
       "      <th>25%</th>\n",
       "      <td>29.900000</td>\n",
       "      <td>70.000000</td>\n",
       "      <td>566.000000</td>\n",
       "      <td>28.000000</td>\n",
       "      <td>123.000000</td>\n",
       "      <td>3595.000000</td>\n",
       "    </tr>\n",
       "    <tr>\n",
       "      <th>50%</th>\n",
       "      <td>30.700000</td>\n",
       "      <td>80.000000</td>\n",
       "      <td>637.000000</td>\n",
       "      <td>28.000000</td>\n",
       "      <td>127.000000</td>\n",
       "      <td>3603.000000</td>\n",
       "    </tr>\n",
       "    <tr>\n",
       "      <th>75%</th>\n",
       "      <td>32.500000</td>\n",
       "      <td>82.000000</td>\n",
       "      <td>696.000000</td>\n",
       "      <td>29.000000</td>\n",
       "      <td>128.000000</td>\n",
       "      <td>3607.000000</td>\n",
       "    </tr>\n",
       "    <tr>\n",
       "      <th>max</th>\n",
       "      <td>43.500000</td>\n",
       "      <td>90.000000</td>\n",
       "      <td>988.000000</td>\n",
       "      <td>19473.000000</td>\n",
       "      <td>412.000000</td>\n",
       "      <td>3618.000000</td>\n",
       "    </tr>\n",
       "  </tbody>\n",
       "</table>\n",
       "</div>"
      ],
      "text/plain": [
       "       Temperature     Humidity     Moisture  dTimestamp-1  Rows_Before  \\\n",
       "count  8542.000000  8542.000000  8542.000000   8541.000000  7671.000000   \n",
       "mean     31.409412    76.219035   629.199251     29.956680   139.507365   \n",
       "std       2.042834     8.035348    89.482404    212.066227    64.079291   \n",
       "min      28.700000    42.000000   353.000000    -29.000000    52.000000   \n",
       "25%      29.900000    70.000000   566.000000     28.000000   123.000000   \n",
       "50%      30.700000    80.000000   637.000000     28.000000   127.000000   \n",
       "75%      32.500000    82.000000   696.000000     29.000000   128.000000   \n",
       "max      43.500000    90.000000   988.000000  19473.000000   412.000000   \n",
       "\n",
       "        dTimestamp  \n",
       "count  7671.000000  \n",
       "mean   3601.055143  \n",
       "std       7.941619  \n",
       "min    3570.000000  \n",
       "25%    3595.000000  \n",
       "50%    3603.000000  \n",
       "75%    3607.000000  \n",
       "max    3618.000000  "
      ]
     },
     "execution_count": 17,
     "metadata": {},
     "output_type": "execute_result"
    }
   ],
   "source": [
    "df.describe()"
   ]
  },
  {
   "cell_type": "markdown",
   "id": "e8e48089",
   "metadata": {},
   "source": [
    "### Moisture"
   ]
  },
  {
   "cell_type": "markdown",
   "id": "84317d53",
   "metadata": {},
   "source": [
    "Moisture content is expressed in percentage. Unlike the values in the dataframe, moisture content is directly proportional to the amount of moisture in the soil. So, the moisture column was modified.\n",
    "\n",
    "When the sensor is in air, it outputs a value of `1023`. When in the water, it outputs a minimum value of `247`. So, the formula for moisture sensor is the formula\n",
    "\n",
    "$M_c = 1 - \\frac{M_ s - 247}{1023 - 247}$\n",
    "\n",
    "where $M_c$ is the moisture content and $M_s$ is the value from the sensor."
   ]
  },
  {
   "cell_type": "code",
   "execution_count": 18,
   "id": "5d2a6250",
   "metadata": {},
   "outputs": [],
   "source": [
    "df[\"Moisture\"] = 1 - ((df[\"Moisture\"] - 247) / (1023 - 247))"
   ]
  },
  {
   "cell_type": "code",
   "execution_count": 19,
   "id": "4be4e3cb",
   "metadata": {},
   "outputs": [],
   "source": [
    "df[\"dMoisture\"] = np.nan"
   ]
  },
  {
   "cell_type": "code",
   "execution_count": 20,
   "id": "41b29731",
   "metadata": {},
   "outputs": [],
   "source": [
    "moisture_loc = df.columns.get_loc(\"Moisture\")\n",
    "dMoisture_loc = df.columns.get_loc(\"dMoisture\")\n",
    "rows_bef_loc = df.columns.get_loc(\"Rows_Before\")\n",
    "\n",
    "for i in range(1, len(df)):\n",
    "    rows_before = df.iloc[i][\"Rows_Before\"]\n",
    "    \n",
    "    if np.isnan(rows_before): continue\n",
    "    rows_before = int(rows_before)\n",
    "    \n",
    "    df.iloc[i, dMoisture_loc] = df.iloc[i, moisture_loc] - df.iloc[i - rows_before, moisture_loc]"
   ]
  },
  {
   "cell_type": "code",
   "execution_count": 21,
   "id": "5a2a5085",
   "metadata": {
    "scrolled": true
   },
   "outputs": [
    {
     "data": {
      "text/html": [
       "<div>\n",
       "<style scoped>\n",
       "    .dataframe tbody tr th:only-of-type {\n",
       "        vertical-align: middle;\n",
       "    }\n",
       "\n",
       "    .dataframe tbody tr th {\n",
       "        vertical-align: top;\n",
       "    }\n",
       "\n",
       "    .dataframe thead th {\n",
       "        text-align: right;\n",
       "    }\n",
       "</style>\n",
       "<table border=\"1\" class=\"dataframe\">\n",
       "  <thead>\n",
       "    <tr style=\"text-align: right;\">\n",
       "      <th></th>\n",
       "      <th>Timestamp</th>\n",
       "      <th>Temperature</th>\n",
       "      <th>Humidity</th>\n",
       "      <th>Moisture</th>\n",
       "      <th>sTimestamp</th>\n",
       "      <th>dTimestamp-1</th>\n",
       "      <th>Rows_Before</th>\n",
       "      <th>dTimestamp</th>\n",
       "      <th>dMoisture</th>\n",
       "    </tr>\n",
       "  </thead>\n",
       "  <tbody>\n",
       "    <tr>\n",
       "      <th>8537</th>\n",
       "      <td>2023-08-08 11:39:16</td>\n",
       "      <td>32.1</td>\n",
       "      <td>74</td>\n",
       "      <td>0.815722</td>\n",
       "      <td>8/8/2023 11:39:16</td>\n",
       "      <td>29.0</td>\n",
       "      <td>126.0</td>\n",
       "      <td>3613.0</td>\n",
       "      <td>-0.006443</td>\n",
       "    </tr>\n",
       "    <tr>\n",
       "      <th>8538</th>\n",
       "      <td>2023-08-08 11:39:44</td>\n",
       "      <td>32.1</td>\n",
       "      <td>74</td>\n",
       "      <td>0.815722</td>\n",
       "      <td>8/8/2023 11:39:44</td>\n",
       "      <td>28.0</td>\n",
       "      <td>126.0</td>\n",
       "      <td>3612.0</td>\n",
       "      <td>-0.006443</td>\n",
       "    </tr>\n",
       "    <tr>\n",
       "      <th>8539</th>\n",
       "      <td>2023-08-08 11:40:13</td>\n",
       "      <td>32.1</td>\n",
       "      <td>75</td>\n",
       "      <td>0.815722</td>\n",
       "      <td>8/8/2023 11:40:13</td>\n",
       "      <td>29.0</td>\n",
       "      <td>126.0</td>\n",
       "      <td>3612.0</td>\n",
       "      <td>-0.006443</td>\n",
       "    </tr>\n",
       "    <tr>\n",
       "      <th>8540</th>\n",
       "      <td>2023-08-08 11:40:43</td>\n",
       "      <td>32.0</td>\n",
       "      <td>74</td>\n",
       "      <td>0.815722</td>\n",
       "      <td>8/8/2023 11:40:43</td>\n",
       "      <td>30.0</td>\n",
       "      <td>126.0</td>\n",
       "      <td>3613.0</td>\n",
       "      <td>-0.006443</td>\n",
       "    </tr>\n",
       "    <tr>\n",
       "      <th>8541</th>\n",
       "      <td>2023-08-08 11:41:12</td>\n",
       "      <td>32.1</td>\n",
       "      <td>74</td>\n",
       "      <td>0.815722</td>\n",
       "      <td>8/8/2023 11:41:12</td>\n",
       "      <td>29.0</td>\n",
       "      <td>126.0</td>\n",
       "      <td>3613.0</td>\n",
       "      <td>-0.006443</td>\n",
       "    </tr>\n",
       "  </tbody>\n",
       "</table>\n",
       "</div>"
      ],
      "text/plain": [
       "               Timestamp  Temperature  Humidity  Moisture         sTimestamp  \\\n",
       "8537 2023-08-08 11:39:16         32.1        74  0.815722  8/8/2023 11:39:16   \n",
       "8538 2023-08-08 11:39:44         32.1        74  0.815722  8/8/2023 11:39:44   \n",
       "8539 2023-08-08 11:40:13         32.1        75  0.815722  8/8/2023 11:40:13   \n",
       "8540 2023-08-08 11:40:43         32.0        74  0.815722  8/8/2023 11:40:43   \n",
       "8541 2023-08-08 11:41:12         32.1        74  0.815722  8/8/2023 11:41:12   \n",
       "\n",
       "      dTimestamp-1  Rows_Before  dTimestamp  dMoisture  \n",
       "8537          29.0        126.0      3613.0  -0.006443  \n",
       "8538          28.0        126.0      3612.0  -0.006443  \n",
       "8539          29.0        126.0      3612.0  -0.006443  \n",
       "8540          30.0        126.0      3613.0  -0.006443  \n",
       "8541          29.0        126.0      3613.0  -0.006443  "
      ]
     },
     "execution_count": 21,
     "metadata": {},
     "output_type": "execute_result"
    }
   ],
   "source": [
    "df.tail()"
   ]
  },
  {
   "cell_type": "markdown",
   "id": "6c8476b9",
   "metadata": {},
   "source": [
    "### Finding Temperature that Caused Moisture Change"
   ]
  },
  {
   "cell_type": "code",
   "execution_count": 22,
   "id": "4a1a6a62",
   "metadata": {},
   "outputs": [],
   "source": [
    "df[\"Cause_Temperature\"] = np.nan"
   ]
  },
  {
   "cell_type": "code",
   "execution_count": 23,
   "id": "8531b914",
   "metadata": {},
   "outputs": [],
   "source": [
    "rows_bef_loc = df.columns.get_loc(\"Rows_Before\")\n",
    "temp_loc = df.columns.get_loc(\"Temperature\")\n",
    "ctemp_loc = df.columns.get_loc(\"Cause_Temperature\")\n",
    "\n",
    "for i in range(1, len(df)):\n",
    "    rows_before = df.iloc[i][\"Rows_Before\"]\n",
    "    \n",
    "    if np.isnan(rows_before): continue\n",
    "    rows_before = int(rows_before)\n",
    "    \n",
    "    df.iloc[i, ctemp_loc] = df.iloc[i - rows_before, temp_loc]"
   ]
  },
  {
   "cell_type": "code",
   "execution_count": 24,
   "id": "b5aa1bc6",
   "metadata": {
    "scrolled": true
   },
   "outputs": [
    {
     "data": {
      "text/html": [
       "<div>\n",
       "<style scoped>\n",
       "    .dataframe tbody tr th:only-of-type {\n",
       "        vertical-align: middle;\n",
       "    }\n",
       "\n",
       "    .dataframe tbody tr th {\n",
       "        vertical-align: top;\n",
       "    }\n",
       "\n",
       "    .dataframe thead th {\n",
       "        text-align: right;\n",
       "    }\n",
       "</style>\n",
       "<table border=\"1\" class=\"dataframe\">\n",
       "  <thead>\n",
       "    <tr style=\"text-align: right;\">\n",
       "      <th></th>\n",
       "      <th>Timestamp</th>\n",
       "      <th>Temperature</th>\n",
       "      <th>Humidity</th>\n",
       "      <th>Moisture</th>\n",
       "      <th>sTimestamp</th>\n",
       "      <th>dTimestamp-1</th>\n",
       "      <th>Rows_Before</th>\n",
       "      <th>dTimestamp</th>\n",
       "      <th>dMoisture</th>\n",
       "      <th>Cause_Temperature</th>\n",
       "    </tr>\n",
       "  </thead>\n",
       "  <tbody>\n",
       "    <tr>\n",
       "      <th>8537</th>\n",
       "      <td>2023-08-08 11:39:16</td>\n",
       "      <td>32.1</td>\n",
       "      <td>74</td>\n",
       "      <td>0.815722</td>\n",
       "      <td>8/8/2023 11:39:16</td>\n",
       "      <td>29.0</td>\n",
       "      <td>126.0</td>\n",
       "      <td>3613.0</td>\n",
       "      <td>-0.006443</td>\n",
       "      <td>32.7</td>\n",
       "    </tr>\n",
       "    <tr>\n",
       "      <th>8538</th>\n",
       "      <td>2023-08-08 11:39:44</td>\n",
       "      <td>32.1</td>\n",
       "      <td>74</td>\n",
       "      <td>0.815722</td>\n",
       "      <td>8/8/2023 11:39:44</td>\n",
       "      <td>28.0</td>\n",
       "      <td>126.0</td>\n",
       "      <td>3612.0</td>\n",
       "      <td>-0.006443</td>\n",
       "      <td>32.7</td>\n",
       "    </tr>\n",
       "    <tr>\n",
       "      <th>8539</th>\n",
       "      <td>2023-08-08 11:40:13</td>\n",
       "      <td>32.1</td>\n",
       "      <td>75</td>\n",
       "      <td>0.815722</td>\n",
       "      <td>8/8/2023 11:40:13</td>\n",
       "      <td>29.0</td>\n",
       "      <td>126.0</td>\n",
       "      <td>3612.0</td>\n",
       "      <td>-0.006443</td>\n",
       "      <td>32.7</td>\n",
       "    </tr>\n",
       "    <tr>\n",
       "      <th>8540</th>\n",
       "      <td>2023-08-08 11:40:43</td>\n",
       "      <td>32.0</td>\n",
       "      <td>74</td>\n",
       "      <td>0.815722</td>\n",
       "      <td>8/8/2023 11:40:43</td>\n",
       "      <td>30.0</td>\n",
       "      <td>126.0</td>\n",
       "      <td>3613.0</td>\n",
       "      <td>-0.006443</td>\n",
       "      <td>32.7</td>\n",
       "    </tr>\n",
       "    <tr>\n",
       "      <th>8541</th>\n",
       "      <td>2023-08-08 11:41:12</td>\n",
       "      <td>32.1</td>\n",
       "      <td>74</td>\n",
       "      <td>0.815722</td>\n",
       "      <td>8/8/2023 11:41:12</td>\n",
       "      <td>29.0</td>\n",
       "      <td>126.0</td>\n",
       "      <td>3613.0</td>\n",
       "      <td>-0.006443</td>\n",
       "      <td>32.7</td>\n",
       "    </tr>\n",
       "  </tbody>\n",
       "</table>\n",
       "</div>"
      ],
      "text/plain": [
       "               Timestamp  Temperature  Humidity  Moisture         sTimestamp  \\\n",
       "8537 2023-08-08 11:39:16         32.1        74  0.815722  8/8/2023 11:39:16   \n",
       "8538 2023-08-08 11:39:44         32.1        74  0.815722  8/8/2023 11:39:44   \n",
       "8539 2023-08-08 11:40:13         32.1        75  0.815722  8/8/2023 11:40:13   \n",
       "8540 2023-08-08 11:40:43         32.0        74  0.815722  8/8/2023 11:40:43   \n",
       "8541 2023-08-08 11:41:12         32.1        74  0.815722  8/8/2023 11:41:12   \n",
       "\n",
       "      dTimestamp-1  Rows_Before  dTimestamp  dMoisture  Cause_Temperature  \n",
       "8537          29.0        126.0      3613.0  -0.006443               32.7  \n",
       "8538          28.0        126.0      3612.0  -0.006443               32.7  \n",
       "8539          29.0        126.0      3612.0  -0.006443               32.7  \n",
       "8540          30.0        126.0      3613.0  -0.006443               32.7  \n",
       "8541          29.0        126.0      3613.0  -0.006443               32.7  "
      ]
     },
     "execution_count": 24,
     "metadata": {},
     "output_type": "execute_result"
    }
   ],
   "source": [
    "df.tail()"
   ]
  },
  {
   "cell_type": "markdown",
   "id": "47d33628",
   "metadata": {},
   "source": [
    "### Delete Rows with Null Values\n",
    "After processing the data, the data with null values are deleted."
   ]
  },
  {
   "cell_type": "code",
   "execution_count": 25,
   "id": "09cc58ae",
   "metadata": {},
   "outputs": [
    {
     "data": {
      "text/plain": [
       "7671"
      ]
     },
     "execution_count": 25,
     "metadata": {},
     "output_type": "execute_result"
    }
   ],
   "source": [
    "len(df.dropna())"
   ]
  },
  {
   "cell_type": "code",
   "execution_count": 26,
   "id": "74e78c1a",
   "metadata": {
    "scrolled": true
   },
   "outputs": [
    {
     "data": {
      "text/html": [
       "<div>\n",
       "<style scoped>\n",
       "    .dataframe tbody tr th:only-of-type {\n",
       "        vertical-align: middle;\n",
       "    }\n",
       "\n",
       "    .dataframe tbody tr th {\n",
       "        vertical-align: top;\n",
       "    }\n",
       "\n",
       "    .dataframe thead th {\n",
       "        text-align: right;\n",
       "    }\n",
       "</style>\n",
       "<table border=\"1\" class=\"dataframe\">\n",
       "  <thead>\n",
       "    <tr style=\"text-align: right;\">\n",
       "      <th></th>\n",
       "      <th>Timestamp</th>\n",
       "      <th>Temperature</th>\n",
       "      <th>Humidity</th>\n",
       "      <th>Moisture</th>\n",
       "      <th>sTimestamp</th>\n",
       "      <th>dTimestamp-1</th>\n",
       "      <th>Rows_Before</th>\n",
       "      <th>dTimestamp</th>\n",
       "      <th>dMoisture</th>\n",
       "      <th>Cause_Temperature</th>\n",
       "    </tr>\n",
       "  </thead>\n",
       "  <tbody>\n",
       "    <tr>\n",
       "      <th>371</th>\n",
       "      <td>2023-08-05 13:36:25</td>\n",
       "      <td>34.8</td>\n",
       "      <td>62</td>\n",
       "      <td>0.661082</td>\n",
       "      <td>8/5/2023 13:36:25</td>\n",
       "      <td>9.0</td>\n",
       "      <td>372.0</td>\n",
       "      <td>3573.0</td>\n",
       "      <td>-0.154639</td>\n",
       "      <td>32.1</td>\n",
       "    </tr>\n",
       "    <tr>\n",
       "      <th>372</th>\n",
       "      <td>2023-08-05 13:36:34</td>\n",
       "      <td>34.8</td>\n",
       "      <td>62</td>\n",
       "      <td>0.661082</td>\n",
       "      <td>8/5/2023 13:36:34</td>\n",
       "      <td>9.0</td>\n",
       "      <td>373.0</td>\n",
       "      <td>3582.0</td>\n",
       "      <td>-0.154639</td>\n",
       "      <td>32.1</td>\n",
       "    </tr>\n",
       "    <tr>\n",
       "      <th>373</th>\n",
       "      <td>2023-08-05 13:36:43</td>\n",
       "      <td>34.8</td>\n",
       "      <td>62</td>\n",
       "      <td>0.661082</td>\n",
       "      <td>8/5/2023 13:36:43</td>\n",
       "      <td>9.0</td>\n",
       "      <td>374.0</td>\n",
       "      <td>3591.0</td>\n",
       "      <td>-0.154639</td>\n",
       "      <td>32.1</td>\n",
       "    </tr>\n",
       "    <tr>\n",
       "      <th>374</th>\n",
       "      <td>2023-08-05 13:36:51</td>\n",
       "      <td>34.7</td>\n",
       "      <td>62</td>\n",
       "      <td>0.661082</td>\n",
       "      <td>8/5/2023 13:36:51</td>\n",
       "      <td>8.0</td>\n",
       "      <td>375.0</td>\n",
       "      <td>3599.0</td>\n",
       "      <td>-0.154639</td>\n",
       "      <td>32.1</td>\n",
       "    </tr>\n",
       "    <tr>\n",
       "      <th>375</th>\n",
       "      <td>2023-08-05 13:36:59</td>\n",
       "      <td>34.8</td>\n",
       "      <td>62</td>\n",
       "      <td>0.662371</td>\n",
       "      <td>8/5/2023 13:36:59</td>\n",
       "      <td>8.0</td>\n",
       "      <td>375.0</td>\n",
       "      <td>3598.0</td>\n",
       "      <td>0.311856</td>\n",
       "      <td>33.0</td>\n",
       "    </tr>\n",
       "  </tbody>\n",
       "</table>\n",
       "</div>"
      ],
      "text/plain": [
       "              Timestamp  Temperature  Humidity  Moisture         sTimestamp  \\\n",
       "371 2023-08-05 13:36:25         34.8        62  0.661082  8/5/2023 13:36:25   \n",
       "372 2023-08-05 13:36:34         34.8        62  0.661082  8/5/2023 13:36:34   \n",
       "373 2023-08-05 13:36:43         34.8        62  0.661082  8/5/2023 13:36:43   \n",
       "374 2023-08-05 13:36:51         34.7        62  0.661082  8/5/2023 13:36:51   \n",
       "375 2023-08-05 13:36:59         34.8        62  0.662371  8/5/2023 13:36:59   \n",
       "\n",
       "     dTimestamp-1  Rows_Before  dTimestamp  dMoisture  Cause_Temperature  \n",
       "371           9.0        372.0      3573.0  -0.154639               32.1  \n",
       "372           9.0        373.0      3582.0  -0.154639               32.1  \n",
       "373           9.0        374.0      3591.0  -0.154639               32.1  \n",
       "374           8.0        375.0      3599.0  -0.154639               32.1  \n",
       "375           8.0        375.0      3598.0   0.311856               33.0  "
      ]
     },
     "execution_count": 26,
     "metadata": {},
     "output_type": "execute_result"
    }
   ],
   "source": [
    "df = df.dropna()\n",
    "df.head()"
   ]
  },
  {
   "cell_type": "markdown",
   "id": "be0add8e",
   "metadata": {},
   "source": [
    "### Deleting Outliers in `dMoisture`\n",
    "During the experiment, there were times when I pulled out the moisture sensor or switched its polarities. There were also times when I watered the plant during the experiment. So, it is important to remove the outliers where `dMoisture` is too high or too low."
   ]
  },
  {
   "cell_type": "code",
   "execution_count": 27,
   "id": "fe0b6af2",
   "metadata": {},
   "outputs": [
    {
     "data": {
      "image/png": "[encoded data removed]",
      "text/plain": [
       "<Figure size 640x480 with 1 Axes>"
      ]
     },
     "metadata": {},
     "output_type": "display_data"
    }
   ],
   "source": [
    "plt.plot(df[\"dMoisture\"])\n",
    "plt.title(\"Differences in Moisture with Outliers\")\n",
    "plt.show()"
   ]
  },
  {
   "cell_type": "code",
   "execution_count": 28,
   "id": "b71cfa2d",
   "metadata": {
    "scrolled": false
   },
   "outputs": [
    {
     "data": {
      "text/html": [
       "<div>\n",
       "<style scoped>\n",
       "    .dataframe tbody tr th:only-of-type {\n",
       "        vertical-align: middle;\n",
       "    }\n",
       "\n",
       "    .dataframe tbody tr th {\n",
       "        vertical-align: top;\n",
       "    }\n",
       "\n",
       "    .dataframe thead th {\n",
       "        text-align: right;\n",
       "    }\n",
       "</style>\n",
       "<table border=\"1\" class=\"dataframe\">\n",
       "  <thead>\n",
       "    <tr style=\"text-align: right;\">\n",
       "      <th></th>\n",
       "      <th>dMoisture</th>\n",
       "    </tr>\n",
       "  </thead>\n",
       "  <tbody>\n",
       "    <tr>\n",
       "      <th>count</th>\n",
       "      <td>7671.000000</td>\n",
       "    </tr>\n",
       "    <tr>\n",
       "      <th>mean</th>\n",
       "      <td>0.003628</td>\n",
       "    </tr>\n",
       "    <tr>\n",
       "      <th>std</th>\n",
       "      <td>0.067844</td>\n",
       "    </tr>\n",
       "    <tr>\n",
       "      <th>min</th>\n",
       "      <td>-0.371134</td>\n",
       "    </tr>\n",
       "    <tr>\n",
       "      <th>25%</th>\n",
       "      <td>-0.006443</td>\n",
       "    </tr>\n",
       "    <tr>\n",
       "      <th>50%</th>\n",
       "      <td>-0.002577</td>\n",
       "    </tr>\n",
       "    <tr>\n",
       "      <th>75%</th>\n",
       "      <td>0.000000</td>\n",
       "    </tr>\n",
       "    <tr>\n",
       "      <th>max</th>\n",
       "      <td>0.774485</td>\n",
       "    </tr>\n",
       "  </tbody>\n",
       "</table>\n",
       "</div>"
      ],
      "text/plain": [
       "         dMoisture\n",
       "count  7671.000000\n",
       "mean      0.003628\n",
       "std       0.067844\n",
       "min      -0.371134\n",
       "25%      -0.006443\n",
       "50%      -0.002577\n",
       "75%       0.000000\n",
       "max       0.774485"
      ]
     },
     "execution_count": 28,
     "metadata": {},
     "output_type": "execute_result"
    }
   ],
   "source": [
    "d_moisture_stats = df[[\"dMoisture\"]].describe()\n",
    "d_moisture_stats"
   ]
  },
  {
   "cell_type": "code",
   "execution_count": 29,
   "id": "9d4f0b98",
   "metadata": {
    "scrolled": true
   },
   "outputs": [
    {
     "data": {
      "text/plain": [
       "(-0.006443298969072142, 0.0)"
      ]
     },
     "execution_count": 29,
     "metadata": {},
     "output_type": "execute_result"
    }
   ],
   "source": [
    "d_moisture_25 = d_moisture_stats.iloc[4,0]\n",
    "d_moisture_75 = d_moisture_stats.iloc[6,0]\n",
    "(d_moisture_25, d_moisture_75)"
   ]
  },
  {
   "cell_type": "markdown",
   "id": "928da098",
   "metadata": {},
   "source": [
    "After these outliers are removed, 4640 rows remain. This number of rows is only <b>54%</b> of the original data, but the remaining data can still be used in the data analysis. "
   ]
  },
  {
   "cell_type": "code",
   "execution_count": 30,
   "id": "cf36ba8c",
   "metadata": {
    "scrolled": true
   },
   "outputs": [
    {
     "data": {
      "text/plain": [
       "4640"
      ]
     },
     "execution_count": 30,
     "metadata": {},
     "output_type": "execute_result"
    }
   ],
   "source": [
    "len(df[(df[\"dMoisture\"] <= d_moisture_75) & (df[\"dMoisture\"] >= d_moisture_25)])"
   ]
  },
  {
   "cell_type": "code",
   "execution_count": 31,
   "id": "b21d51f8",
   "metadata": {},
   "outputs": [],
   "source": [
    "df = df[(df[\"dMoisture\"] <= d_moisture_75) & (df[\"dMoisture\"] >= d_moisture_25)]"
   ]
  },
  {
   "cell_type": "code",
   "execution_count": 32,
   "id": "51df431c",
   "metadata": {},
   "outputs": [
    {
     "data": {
      "image/png": "[encoded data removed]",
      "text/plain": [
       "<Figure size 640x480 with 1 Axes>"
      ]
     },
     "metadata": {},
     "output_type": "display_data"
    }
   ],
   "source": [
    "plt.plot(df[\"dMoisture\"])\n",
    "plt.title(\"Differences in Moisture without Outliers\")\n",
    "plt.show()"
   ]
  },
  {
   "cell_type": "markdown",
   "id": "21d880c2",
   "metadata": {},
   "source": [
    "### Removing Columns to Clean Data Further"
   ]
  },
  {
   "cell_type": "code",
   "execution_count": 33,
   "id": "b4f56646",
   "metadata": {},
   "outputs": [
    {
     "data": {
      "text/html": [
       "<div>\n",
       "<style scoped>\n",
       "    .dataframe tbody tr th:only-of-type {\n",
       "        vertical-align: middle;\n",
       "    }\n",
       "\n",
       "    .dataframe tbody tr th {\n",
       "        vertical-align: top;\n",
       "    }\n",
       "\n",
       "    .dataframe thead th {\n",
       "        text-align: right;\n",
       "    }\n",
       "</style>\n",
       "<table border=\"1\" class=\"dataframe\">\n",
       "  <thead>\n",
       "    <tr style=\"text-align: right;\">\n",
       "      <th></th>\n",
       "      <th>Timestamp</th>\n",
       "      <th>Temperature</th>\n",
       "      <th>Humidity</th>\n",
       "      <th>Moisture</th>\n",
       "      <th>sTimestamp</th>\n",
       "      <th>dTimestamp-1</th>\n",
       "      <th>Rows_Before</th>\n",
       "      <th>dTimestamp</th>\n",
       "      <th>dMoisture</th>\n",
       "      <th>Cause_Temperature</th>\n",
       "    </tr>\n",
       "  </thead>\n",
       "  <tbody>\n",
       "    <tr>\n",
       "      <th>651</th>\n",
       "      <td>2023-08-05 14:21:37</td>\n",
       "      <td>34.8</td>\n",
       "      <td>64</td>\n",
       "      <td>0.661082</td>\n",
       "      <td>8/5/2023 14:21:37</td>\n",
       "      <td>10.0</td>\n",
       "      <td>380.0</td>\n",
       "      <td>3599.0</td>\n",
       "      <td>-0.005155</td>\n",
       "      <td>34.7</td>\n",
       "    </tr>\n",
       "    <tr>\n",
       "      <th>652</th>\n",
       "      <td>2023-08-05 14:21:47</td>\n",
       "      <td>34.7</td>\n",
       "      <td>64</td>\n",
       "      <td>0.661082</td>\n",
       "      <td>8/5/2023 14:21:47</td>\n",
       "      <td>10.0</td>\n",
       "      <td>379.0</td>\n",
       "      <td>3600.0</td>\n",
       "      <td>-0.005155</td>\n",
       "      <td>34.7</td>\n",
       "    </tr>\n",
       "    <tr>\n",
       "      <th>653</th>\n",
       "      <td>2023-08-05 14:21:57</td>\n",
       "      <td>34.7</td>\n",
       "      <td>64</td>\n",
       "      <td>0.661082</td>\n",
       "      <td>8/5/2023 14:21:57</td>\n",
       "      <td>10.0</td>\n",
       "      <td>379.0</td>\n",
       "      <td>3602.0</td>\n",
       "      <td>-0.005155</td>\n",
       "      <td>34.7</td>\n",
       "    </tr>\n",
       "    <tr>\n",
       "      <th>654</th>\n",
       "      <td>2023-08-05 14:22:11</td>\n",
       "      <td>34.8</td>\n",
       "      <td>64</td>\n",
       "      <td>0.661082</td>\n",
       "      <td>8/5/2023 14:22:11</td>\n",
       "      <td>14.0</td>\n",
       "      <td>379.0</td>\n",
       "      <td>3599.0</td>\n",
       "      <td>-0.001289</td>\n",
       "      <td>34.7</td>\n",
       "    </tr>\n",
       "    <tr>\n",
       "      <th>655</th>\n",
       "      <td>2023-08-05 14:22:20</td>\n",
       "      <td>34.8</td>\n",
       "      <td>64</td>\n",
       "      <td>0.661082</td>\n",
       "      <td>8/5/2023 14:22:20</td>\n",
       "      <td>9.0</td>\n",
       "      <td>379.0</td>\n",
       "      <td>3599.0</td>\n",
       "      <td>0.000000</td>\n",
       "      <td>34.6</td>\n",
       "    </tr>\n",
       "  </tbody>\n",
       "</table>\n",
       "</div>"
      ],
      "text/plain": [
       "              Timestamp  Temperature  Humidity  Moisture         sTimestamp  \\\n",
       "651 2023-08-05 14:21:37         34.8        64  0.661082  8/5/2023 14:21:37   \n",
       "652 2023-08-05 14:21:47         34.7        64  0.661082  8/5/2023 14:21:47   \n",
       "653 2023-08-05 14:21:57         34.7        64  0.661082  8/5/2023 14:21:57   \n",
       "654 2023-08-05 14:22:11         34.8        64  0.661082  8/5/2023 14:22:11   \n",
       "655 2023-08-05 14:22:20         34.8        64  0.661082  8/5/2023 14:22:20   \n",
       "\n",
       "     dTimestamp-1  Rows_Before  dTimestamp  dMoisture  Cause_Temperature  \n",
       "651          10.0        380.0      3599.0  -0.005155               34.7  \n",
       "652          10.0        379.0      3600.0  -0.005155               34.7  \n",
       "653          10.0        379.0      3602.0  -0.005155               34.7  \n",
       "654          14.0        379.0      3599.0  -0.001289               34.7  \n",
       "655           9.0        379.0      3599.0   0.000000               34.6  "
      ]
     },
     "execution_count": 33,
     "metadata": {},
     "output_type": "execute_result"
    }
   ],
   "source": [
    "df.head()"
   ]
  },
  {
   "cell_type": "code",
   "execution_count": 34,
   "id": "ea684612",
   "metadata": {},
   "outputs": [],
   "source": [
    "# df = df[[\"Timestamp\", \"dMoisture\", \"Cause_Temperature\"]]\n",
    "df[[\"Timestamp\", \"dMoisture\", \"Cause_Temperature\"]].to_csv(\"resistive-sensor-clean.csv\", index=False)"
   ]
  }
 ],
 "metadata": {
  "kernelspec": {
   "display_name": "Python 3 (ipykernel)",
   "language": "python",
   "name": "python3"
  },
  "language_info": {
   "codemirror_mode": {
    "name": "ipython",
    "version": 3
   },
   "file_extension": ".py",
   "mimetype": "text/x-python",
   "name": "python",
   "nbconvert_exporter": "python",
   "pygments_lexer": "ipython3",
   "version": "3.11.4"
  }
 },
 "nbformat": 4,
 "nbformat_minor": 5
}
